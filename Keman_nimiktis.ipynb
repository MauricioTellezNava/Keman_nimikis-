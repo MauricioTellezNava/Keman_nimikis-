{
 "cells": [
  {
   "cell_type": "code",
   "execution_count": 3,
   "metadata": {},
   "outputs": [
    {
     "name": "stdout",
     "output_type": "stream",
     "text": [
      "Panolti Mauricio!, techpactiskia tikmatis keman timiktis?\n",
      "Timiktis ipan 48 xiwitl, nokni. Techtlapohpolwi...\n",
      "Timoittaskeh ipan miktlan!!!\n"
     ]
    }
   ],
   "source": [
    "from random import randint\n",
    "n = randint(1,6)\n",
    "\n",
    "neh_notoka = input(\"Tlen motokatsin, nokni?\")\n",
    "\n",
    "print(f\"Panolti {neh_notoka}!, techpactiskia tikmatis keman timikis?\")\n",
    "motenankilis = int(input(\"kema = 1 nosso ammo = 0\"))\n",
    "if motenankilis>0:\n",
    "    noxiwitl = input(\"Xinechmaka moxiwitl\")\n",
    "    mikilistli= int(noxiwitl) + randint (1,27)\n",
    "    print(f\"Timikis ipan {int(mikilistli)} xiwitl, nokni. Techtlapohpolwi...\")\n",
    "    print(\"Timoittaskeh ipan miktlan!!!\")\n",
    "else:\n",
    "    print(\"Mawini\")\n"
   ]
  },
  {
   "cell_type": "markdown",
   "metadata": {},
   "source": []
  }
 ],
 "metadata": {
  "interpreter": {
   "hash": "0c223d57c7189d54549835f7c8303e9ddeb2644bc2548f67a90629b42846d118"
  },
  "kernelspec": {
   "display_name": "Python 3.9.7 ('base')",
   "language": "python",
   "name": "python3"
  },
  "language_info": {
   "codemirror_mode": {
    "name": "ipython",
    "version": 3
   },
   "file_extension": ".py",
   "mimetype": "text/x-python",
   "name": "python",
   "nbconvert_exporter": "python",
   "pygments_lexer": "ipython3",
   "version": "3.9.7"
  },
  "orig_nbformat": 4
 },
 "nbformat": 4,
 "nbformat_minor": 2
}
